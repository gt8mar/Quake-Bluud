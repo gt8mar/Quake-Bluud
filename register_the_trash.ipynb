{
 "cells": [
  {
   "cell_type": "code",
   "execution_count": 5,
   "metadata": {},
   "outputs": [],
   "source": [
    "import numpy as np\n",
    "import matplotlib as mpl\n",
    "from matplotlib import pyplot as plt\n",
    "import os\n",
    "import glob\n",
    "import skimage\n",
    "from skimage import data\n",
    "from skimage.feature import register_translation\n",
    "from skimage.feature.register_translation import _upsampled_dft\n",
    "from scipy.ndimage import fourier_shift"
   ]
  },
  {
   "cell_type": "code",
   "execution_count": 6,
   "metadata": {},
   "outputs": [],
   "source": [
    "mpl.rcParams['figure.figsize'] = (6, 4)\n",
    "mpl.rcParams['figure.dpi'] = 150"
   ]
  },
  {
   "cell_type": "code",
   "execution_count": 7,
   "metadata": {},
   "outputs": [
    {
     "name": "stdout",
     "output_type": "stream",
     "text": [
      "C:\\Users\\gt8mar\\patientg\n"
     ]
    }
   ],
   "source": [
    "DATA_FOLDER = os.path.join('C:\\\\', 'Users', 'gt8mar', 'patientg')\n",
    "print(DATA_FOLDER)"
   ]
  },
  {
   "cell_type": "code",
   "execution_count": 8,
   "metadata": {},
   "outputs": [
    {
     "name": "stdout",
     "output_type": "stream",
     "text": [
      "C:\\Users\\gt8mar\\patientg\\Basler_acA1300-200um__23253950__20200219_174245878_1.tiff\n"
     ]
    }
   ],
   "source": [
    "file_list = glob.glob(os.path.join(DATA_FOLDER, 'Basler_acA1300-200um__23253950__20200219_174245878_*.tiff'))\n",
    "print(file_list[0])"
   ]
  },
  {
   "cell_type": "code",
   "execution_count": 100,
   "metadata": {
    "scrolled": true
   },
   "outputs": [],
   "source": [
    "file1 = skimage.external.tifffile.imread(file_list[5])\n",
    "file2 = skimage.external.tifffile.imread(file_list[235])"
   ]
  },
  {
   "cell_type": "code",
   "execution_count": 101,
   "metadata": {},
   "outputs": [
    {
     "name": "stdout",
     "output_type": "stream",
     "text": [
      "Detected subpixel offset (y, x): [-0.01  0.02]\n"
     ]
    }
   ],
   "source": [
    "shift, error, diffphase = register_translation(file1, file2, 100)\n",
    "print(f\"Detected subpixel offset (y, x): {shift}\")"
   ]
  },
  {
   "cell_type": "code",
   "execution_count": 35,
   "metadata": {},
   "outputs": [
    {
     "name": "stdout",
     "output_type": "stream",
     "text": [
      "Detected subpixel offset (y, x): [0. 0.]\n"
     ]
    }
   ],
   "source": [
    "file4 = skimage.external.tifffile.imread(file_list[3])\n",
    "file4_shift = (-30.92, -45.76)\n",
    "\n",
    "file4_offset = fourier_shift(np.fft.fftn(file4), file4_shift)\n",
    "file4_offset = np.fft.ifftn(file4_offset)\n",
    "\n",
    "shift, error, diffphase = register_translation(file2, file4_offset)\n",
    "print(f\"Detected subpixel offset (y, x): {shift}\")"
   ]
  },
  {
   "cell_type": "code",
   "execution_count": 2,
   "metadata": {},
   "outputs": [],
   "source": [
    "\n",
    "\n",
    "\n",
    "shift, error, diffphase = register_translation(image, offset_image)\n",
    "\n",
    "\n",
    "\n",
    "print(f\"Detected pixel offset (y, x): {shift}\")\n",
    "\n",
    "# subpixel precision\n",
    "shift, error, diffphase = register_translation(image, offset_image, 100)\n",
    "\n",
    "\n",
    "# Calculate the upsampled DFT, again to show what the algorithm is doing\n",
    "# behind the scenes.  Constants correspond to calculated values in routine.\n",
    "# See source code for details.\n",
    "cc_image = _upsampled_dft(image_product, 150, 100, (shift*100)+75).conj()\n",
    "ax3.imshow(cc_image.real)\n",
    "ax3.set_axis_off()\n",
    "ax3.set_title(\"Supersampled XC sub-area\")\n",
    "\n",
    "\n",
    "plt.show()\n",
    "\n",
    "print(f\"Detected subpixel offset (y, x): {shift}\")"
   ]
  },
  {
   "cell_type": "code",
   "execution_count": null,
   "metadata": {},
   "outputs": [],
   "source": []
  }
 ],
 "metadata": {
  "kernelspec": {
   "display_name": "Python 3",
   "language": "python",
   "name": "python3"
  },
  "language_info": {
   "codemirror_mode": {
    "name": "ipython",
    "version": 3
   },
   "file_extension": ".py",
   "mimetype": "text/x-python",
   "name": "python",
   "nbconvert_exporter": "python",
   "pygments_lexer": "ipython3",
   "version": "3.7.4"
  }
 },
 "nbformat": 4,
 "nbformat_minor": 2
}
